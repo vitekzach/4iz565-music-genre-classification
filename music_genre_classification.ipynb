{
 "cells": [
  {
   "cell_type": "markdown",
   "id": "fda9492a-5e54-4ba3-99d9-57894aace340",
   "metadata": {},
   "source": [
    "# Music genre classification"
   ]
  },
  {
   "cell_type": "markdown",
   "id": "6ffb5147-8077-4711-93fb-27518411c888",
   "metadata": {
    "tags": []
   },
   "source": [
    "## Dataset description\n",
    "\n",
    "This dataset wad download from kaggle.com. According to the description, it was created as a part of MachineHack Hackathon. [Link to data](https://www.kaggle.com/datasets/purumalgi/music-genre-classification?select=test.csv)\n",
    "\n",
    "### Features\n",
    "\n",
    "The dataset has 17 features altogether.\n",
    "\n",
    "Following table contains dataset feature names, their types and short description:\n",
    "\n",
    "| Feature name | Type | Description |\n",
    "| ---- | ---- | ---- |\n",
    "| Artist Name | string | Artist name |\n",
    "| Track Name | string | Name of the track |\n",
    "| Popularity | integer | Measures how the song is popular |\n",
    "| danceability | float | Measures how the song is danceable  |\n",
    "| energy | float | Measure how energetic the song is |\n",
    "| key | categorical | Determines the key of the song |\n",
    "| loudness | float | Measures how loud the song is |\n",
    "| mode | categorical | Determines the song's mode |\n",
    "| speechiness | float | Measures how lyrical the song is |\n",
    "| acousticness | float | Measure how acoustic the song is |\n",
    "| instrumentalness | float | Measure how instrumental the song is |\n",
    "| liveness | float | Measures how lively the song is |\n",
    "| valence | float | Measures how positive the song is|\n",
    "| tempo | float | Measures song tempo |\n",
    "| duration_in min/ms | float | Song duration |\n",
    "| time_signature | categorical | Determines time signature |\n",
    "| Class | categorical | Determines which genre the song belongs to |\n",
    "\n",
    "\n",
    "### Target\n",
    "\n",
    "The aim of this dataset (and of this notebook) is to train a model to predict the genre a song belongs to. Following table provides overview of genres present in the dataset:\n",
    "\n",
    "| Class in dataset | Genre |\n",
    "| ---- | ---- |\n",
    "| 0 | Acoustic |\n",
    "| 1 | Alt |\n",
    "| 2 | Blues |\n",
    "| 3 | Bollywood |\n",
    "| 4 | Country |\n",
    "| 5 | HipHop |\n",
    "| 6 | Indie |\n",
    "| 7 | Instrumental |\n",
    "| 8 | Metal |\n",
    "| 9 | Pop |\n",
    "| 10 | Rock |\n"
   ]
  },
  {
   "cell_type": "code",
   "execution_count": 1,
   "id": "209a6b6f-5ee2-44a2-9d38-1c0d8a408ff7",
   "metadata": {
    "tags": []
   },
   "outputs": [],
   "source": [
    "# import libraries and functions for the whole notebook\n",
    "import pandas as pd\n",
    "import numpy as np\n",
    "from sklearn.model_selection import train_test_split\n",
    "\n",
    "# set seed for reproducible results - sklearn follows this seed as well\n",
    "np.random.seed(565)"
   ]
  },
  {
   "cell_type": "markdown",
   "id": "7fbe3db6-df2f-4751-bc03-8c9db7570e86",
   "metadata": {},
   "source": [
    "## Creating training and testing dataset.\n",
    "\n",
    "The data provided on kaggle does not have the target variable present in the testing dataset, so the training dataset will be used for the purposes of training and testing. The dataset will be read and split into training and testing. The split will be done in a stratified fashion to preserve the genre distribution between test and train data.\n",
    "\n",
    "The exploratory analysis and preprocessing will be done only with the training part in order to avoid data leakage from the testing part."
   ]
  },
  {
   "cell_type": "code",
   "execution_count": 2,
   "id": "feaae17c-bfbd-4af9-b1c2-d73e938874b3",
   "metadata": {
    "tags": []
   },
   "outputs": [
    {
     "data": {
      "text/plain": [
       "Artist Name             object\n",
       "Track Name              object\n",
       "Popularity             float64\n",
       "danceability           float64\n",
       "energy                 float64\n",
       "key                   category\n",
       "loudness               float64\n",
       "mode                  category\n",
       "speechiness            float64\n",
       "acousticness           float64\n",
       "instrumentalness       float64\n",
       "liveness               float64\n",
       "valence                float64\n",
       "tempo                  float64\n",
       "duration_in min/ms     float64\n",
       "time_signature        category\n",
       "Class                 category\n",
       "dtype: object"
      ]
     },
     "execution_count": 2,
     "metadata": {},
     "output_type": "execute_result"
    }
   ],
   "source": [
    "data = pd.read_csv(\"data/train.csv\", dtype={\"key\": \"category\", \"mode\": \"category\", \"time_signature\": \"category\", \"Class\": \"category\"})\n",
    "\n",
    "train, test = train_test_split(data, test_size=0.3, stratify=data[\"Class\"])\n",
    "\n",
    "# show automatically detected dtypes (will be fixed later)\n",
    "data.dtypes"
   ]
  },
  {
   "cell_type": "markdown",
   "id": "5b653bdc-a8c5-4967-acfe-a451431c2ae4",
   "metadata": {},
   "source": [
    "## Exploratory data analysis\n",
    "\n",
    "In this section, we will look at how values are distributed in the dataset and how they're individually correlated to the output.\n",
    "\n",
    "### Missing values\n",
    "\n",
    "However, first a quick look on missing values in the dataset. It will give overview if certain features can or should be discarded. \n",
    "\n",
    "#### Missing values in columns\n",
    "\n",
    "As it can be seen, only three features have at least one missing value. Result shows percentage of rows in each column that has a missing value. Feature `instrumentalness` is missing a quarter of its values and `key` has 11% missing. Those two features will be discarded due to high amount of missing values. `Popularity` has only 2% values missing, this value is acceptable."
   ]
  },
  {
   "cell_type": "code",
   "execution_count": 3,
   "id": "495cb9c8-4f68-411e-b3e5-0994ca076fbf",
   "metadata": {
    "tags": []
   },
   "outputs": [
    {
     "data": {
      "text/plain": [
       "Artist Name            0.000000\n",
       "Track Name             0.000000\n",
       "Popularity             2.413273\n",
       "danceability           0.000000\n",
       "energy                 0.000000\n",
       "key                   11.209018\n",
       "loudness               0.000000\n",
       "mode                   0.000000\n",
       "speechiness            0.000000\n",
       "acousticness           0.000000\n",
       "instrumentalness      24.339128\n",
       "liveness               0.000000\n",
       "valence                0.000000\n",
       "tempo                  0.000000\n",
       "duration_in min/ms     0.000000\n",
       "time_signature         0.000000\n",
       "Class                  0.000000\n",
       "dtype: float64"
      ]
     },
     "execution_count": 3,
     "metadata": {},
     "output_type": "execute_result"
    }
   ],
   "source": [
    "train.isna().sum(axis=0)/train.shape[0] * 100"
   ]
  },
  {
   "cell_type": "markdown",
   "id": "652b0bdc-554a-4a61-87ed-1c88fe74a0ca",
   "metadata": {},
   "source": [
    "#### Missing values in rows\n",
    "\n",
    "34% of songs have at least 1 feature missing. With the two features being dropped however, the percentage would drop to 2.2%."
   ]
  },
  {
   "cell_type": "code",
   "execution_count": 4,
   "id": "5d6a6500-276a-4995-8392-39e3bedfe08a",
   "metadata": {
    "tags": []
   },
   "outputs": [
    {
     "data": {
      "text/plain": [
       "34.325633087243"
      ]
     },
     "execution_count": 4,
     "metadata": {},
     "output_type": "execute_result"
    }
   ],
   "source": [
    "(train.isna().sum(axis=1)>0).sum()/train.shape[0]*100"
   ]
  },
  {
   "cell_type": "markdown",
   "id": "4bb8c704-2deb-47ef-b1a8-507ef1cafc50",
   "metadata": {},
   "source": [
    "### Artist name\n",
    "\n",
    "Artist names are provided as strings. Processing these could be difficult as there are 7286 unique artists in the dataset. There are also some artists represented in multiple unique strings because they can be part of a collaboration between multiple artists. \n",
    "\n",
    "Top 10 artists cover 2.56% of all songs. It could be worth to try to include one-hot encoded top N artists as an experiment. Including high number of artists will lead to high cardinality, and the model will probably not be able to capture the relationship for those artists that have just a few songs represented in this dataset. "
   ]
  },
  {
   "cell_type": "code",
   "execution_count": 5,
   "id": "c80f94a4-9cbe-4633-8859-ab5cbf103b26",
   "metadata": {
    "tags": []
   },
   "outputs": [
    {
     "name": "stdout",
     "output_type": "stream",
     "text": [
      "Amount of unique artist strings: 7226\n",
      "Top 10 artists cover 2.51% of all training data.\n"
     ]
    }
   ],
   "source": [
    "print(f\"Amount of unique artist strings: {len(train['Artist Name'].unique())}\")\n",
    "\n",
    "top_artists = 10\n",
    "\n",
    "print(f\"Top {top_artists} artists cover {train['Artist Name'].value_counts()[:top_artists].sum()/train.shape[0] * 100:.2f}% of all training data.\")"
   ]
  },
  {
   "cell_type": "markdown",
   "id": "a4af82f1-69a2-4cf5-8622-8c77478a3f14",
   "metadata": {
    "tags": []
   },
   "source": [
    "### Track name\n",
    "\n",
    "As can be seen in the output below, there are some track names being represented multiple times. However, these numbers are very low to be significant enough to be used as a variable."
   ]
  },
  {
   "cell_type": "code",
   "execution_count": 6,
   "id": "f583fd78-9988-4345-9dc7-9f969674413a",
   "metadata": {
    "tags": []
   },
   "outputs": [
    {
     "data": {
      "text/plain": [
       "Hurricane                                                          7\n",
       "Fire                                                               6\n",
       "Dreams                                                             6\n",
       "Ride                                                               5\n",
       "Over You                                                           5\n",
       "                                                                  ..\n",
       "World On Silent                                                    1\n",
       "Wind Parade                                                        1\n",
       "Are the Good Times Really Over (I Wish a Buck Was Still Silver)    1\n",
       "Love Can Pass You By                                               1\n",
       "◊í◊ú◊í◊ú ◊¢◊†◊ß                                                    1\n",
       "Name: Track Name, Length: 11065, dtype: int64"
      ]
     },
     "execution_count": 6,
     "metadata": {},
     "output_type": "execute_result"
    }
   ],
   "source": [
    "train['Track Name'].value_counts()"
   ]
  },
  {
   "cell_type": "markdown",
   "id": "2d39dc0b-f9f0-40d6-9526-6b85ed10a407",
   "metadata": {},
   "source": [
    "### Popularity"
   ]
  },
  {
   "cell_type": "code",
   "execution_count": 7,
   "id": "07c07988-d23b-4ddd-8953-4fde473f262b",
   "metadata": {},
   "outputs": [
    {
     "data": {
      "text/html": [
       "<div>\n",
       "<style scoped>\n",
       "    .dataframe tbody tr th:only-of-type {\n",
       "        vertical-align: middle;\n",
       "    }\n",
       "\n",
       "    .dataframe tbody tr th {\n",
       "        vertical-align: top;\n",
       "    }\n",
       "\n",
       "    .dataframe thead th {\n",
       "        text-align: right;\n",
       "    }\n",
       "</style>\n",
       "<table border=\"1\" class=\"dataframe\">\n",
       "  <thead>\n",
       "    <tr style=\"text-align: right;\">\n",
       "      <th></th>\n",
       "      <th>Artist Name</th>\n",
       "      <th>Track Name</th>\n",
       "      <th>Popularity</th>\n",
       "      <th>danceability</th>\n",
       "      <th>energy</th>\n",
       "      <th>loudness</th>\n",
       "      <th>mode</th>\n",
       "      <th>speechiness</th>\n",
       "      <th>acousticness</th>\n",
       "      <th>liveness</th>\n",
       "      <th>valence</th>\n",
       "      <th>tempo</th>\n",
       "      <th>duration_in min/ms</th>\n",
       "      <th>time_signature</th>\n",
       "      <th>Class</th>\n",
       "    </tr>\n",
       "  </thead>\n",
       "  <tbody>\n",
       "    <tr>\n",
       "      <th>6368</th>\n",
       "      <td>Skip James</td>\n",
       "      <td>Cypress Grove Blues</td>\n",
       "      <td>26.0</td>\n",
       "      <td>0.599</td>\n",
       "      <td>0.121</td>\n",
       "      <td>-18.501</td>\n",
       "      <td>1</td>\n",
       "      <td>0.0583</td>\n",
       "      <td>0.9920</td>\n",
       "      <td>0.0933</td>\n",
       "      <td>0.568</td>\n",
       "      <td>102.598</td>\n",
       "      <td>189187.0</td>\n",
       "      <td>4</td>\n",
       "      <td>2</td>\n",
       "    </tr>\n",
       "    <tr>\n",
       "      <th>16126</th>\n",
       "      <td>Leah Kate</td>\n",
       "      <td>Boyfriend</td>\n",
       "      <td>52.0</td>\n",
       "      <td>0.898</td>\n",
       "      <td>0.509</td>\n",
       "      <td>-6.038</td>\n",
       "      <td>0</td>\n",
       "      <td>0.1240</td>\n",
       "      <td>0.1580</td>\n",
       "      <td>0.0939</td>\n",
       "      <td>0.555</td>\n",
       "      <td>108.002</td>\n",
       "      <td>143556.0</td>\n",
       "      <td>4</td>\n",
       "      <td>9</td>\n",
       "    </tr>\n",
       "    <tr>\n",
       "      <th>8992</th>\n",
       "      <td>ONUKA</td>\n",
       "      <td>ZENIT</td>\n",
       "      <td>46.0</td>\n",
       "      <td>0.658</td>\n",
       "      <td>0.679</td>\n",
       "      <td>-5.766</td>\n",
       "      <td>1</td>\n",
       "      <td>0.0445</td>\n",
       "      <td>0.1070</td>\n",
       "      <td>0.3890</td>\n",
       "      <td>0.247</td>\n",
       "      <td>140.055</td>\n",
       "      <td>271189.0</td>\n",
       "      <td>4</td>\n",
       "      <td>6</td>\n",
       "    </tr>\n",
       "    <tr>\n",
       "      <th>4415</th>\n",
       "      <td>Electroforez</td>\n",
       "      <td>–ê–ª–∫–æ–≥–æ–ª—å –º–æ–π –≤—Ä–∞–≥</td>\n",
       "      <td>46.0</td>\n",
       "      <td>0.682</td>\n",
       "      <td>0.877</td>\n",
       "      <td>-4.888</td>\n",
       "      <td>0</td>\n",
       "      <td>0.0410</td>\n",
       "      <td>0.0309</td>\n",
       "      <td>0.0847</td>\n",
       "      <td>0.827</td>\n",
       "      <td>111.964</td>\n",
       "      <td>167000.0</td>\n",
       "      <td>4</td>\n",
       "      <td>6</td>\n",
       "    </tr>\n",
       "    <tr>\n",
       "      <th>1457</th>\n",
       "      <td>Grimes</td>\n",
       "      <td>Violence - REZZ Remix</td>\n",
       "      <td>59.0</td>\n",
       "      <td>0.596</td>\n",
       "      <td>0.661</td>\n",
       "      <td>-7.533</td>\n",
       "      <td>0</td>\n",
       "      <td>0.0382</td>\n",
       "      <td>0.0713</td>\n",
       "      <td>0.2090</td>\n",
       "      <td>0.124</td>\n",
       "      <td>99.951</td>\n",
       "      <td>195300.0</td>\n",
       "      <td>4</td>\n",
       "      <td>10</td>\n",
       "    </tr>\n",
       "  </tbody>\n",
       "</table>\n",
       "</div>"
      ],
      "text/plain": [
       "        Artist Name                        Track Name  Popularity  \\\n",
       "6368     Skip James               Cypress Grove Blues        26.0   \n",
       "16126     Leah Kate                         Boyfriend        52.0   \n",
       "8992          ONUKA                             ZENIT        46.0   \n",
       "4415   Electroforez  –ê–ª–∫–æ–≥–æ–ª—å –º–æ–π –≤—Ä–∞–≥        46.0   \n",
       "1457         Grimes             Violence - REZZ Remix        59.0   \n",
       "\n",
       "       danceability  energy  loudness mode  speechiness  acousticness  \\\n",
       "6368          0.599   0.121   -18.501    1       0.0583        0.9920   \n",
       "16126         0.898   0.509    -6.038    0       0.1240        0.1580   \n",
       "8992          0.658   0.679    -5.766    1       0.0445        0.1070   \n",
       "4415          0.682   0.877    -4.888    0       0.0410        0.0309   \n",
       "1457          0.596   0.661    -7.533    0       0.0382        0.0713   \n",
       "\n",
       "       liveness  valence    tempo  duration_in min/ms time_signature Class  \n",
       "6368     0.0933    0.568  102.598            189187.0              4     2  \n",
       "16126    0.0939    0.555  108.002            143556.0              4     9  \n",
       "8992     0.3890    0.247  140.055            271189.0              4     6  \n",
       "4415     0.0847    0.827  111.964            167000.0              4     6  \n",
       "1457     0.2090    0.124   99.951            195300.0              4    10  "
      ]
     },
     "execution_count": 7,
     "metadata": {},
     "output_type": "execute_result"
    }
   ],
   "source": [
    "#Removing the variables for 'key' and 'instrumentalness' due to the high percentage of missing values\n",
    "\n",
    "data_without_missing_values = train.drop(['key', 'instrumentalness'], axis=1)\n",
    "data_without_missing_values.head()"
   ]
  },
  {
   "cell_type": "code",
   "execution_count": 8,
   "id": "b63ac9bd-bf35-4464-b303-821210948bf7",
   "metadata": {},
   "outputs": [
    {
     "data": {
      "text/html": [
       "<div>\n",
       "<style scoped>\n",
       "    .dataframe tbody tr th:only-of-type {\n",
       "        vertical-align: middle;\n",
       "    }\n",
       "\n",
       "    .dataframe tbody tr th {\n",
       "        vertical-align: top;\n",
       "    }\n",
       "\n",
       "    .dataframe thead th {\n",
       "        text-align: right;\n",
       "    }\n",
       "</style>\n",
       "<table border=\"1\" class=\"dataframe\">\n",
       "  <thead>\n",
       "    <tr style=\"text-align: right;\">\n",
       "      <th></th>\n",
       "      <th>Popularity</th>\n",
       "      <th>danceability</th>\n",
       "      <th>energy</th>\n",
       "      <th>loudness</th>\n",
       "      <th>mode</th>\n",
       "      <th>speechiness</th>\n",
       "      <th>acousticness</th>\n",
       "      <th>liveness</th>\n",
       "      <th>valence</th>\n",
       "      <th>tempo</th>\n",
       "      <th>duration_in min/ms</th>\n",
       "      <th>time_signature</th>\n",
       "      <th>Class</th>\n",
       "    </tr>\n",
       "  </thead>\n",
       "  <tbody>\n",
       "    <tr>\n",
       "      <th>6368</th>\n",
       "      <td>26.0</td>\n",
       "      <td>0.599</td>\n",
       "      <td>0.121</td>\n",
       "      <td>-18.501</td>\n",
       "      <td>1</td>\n",
       "      <td>0.0583</td>\n",
       "      <td>0.9920</td>\n",
       "      <td>0.0933</td>\n",
       "      <td>0.568</td>\n",
       "      <td>102.598</td>\n",
       "      <td>189187.0</td>\n",
       "      <td>4</td>\n",
       "      <td>2</td>\n",
       "    </tr>\n",
       "    <tr>\n",
       "      <th>16126</th>\n",
       "      <td>52.0</td>\n",
       "      <td>0.898</td>\n",
       "      <td>0.509</td>\n",
       "      <td>-6.038</td>\n",
       "      <td>0</td>\n",
       "      <td>0.1240</td>\n",
       "      <td>0.1580</td>\n",
       "      <td>0.0939</td>\n",
       "      <td>0.555</td>\n",
       "      <td>108.002</td>\n",
       "      <td>143556.0</td>\n",
       "      <td>4</td>\n",
       "      <td>9</td>\n",
       "    </tr>\n",
       "    <tr>\n",
       "      <th>8992</th>\n",
       "      <td>46.0</td>\n",
       "      <td>0.658</td>\n",
       "      <td>0.679</td>\n",
       "      <td>-5.766</td>\n",
       "      <td>1</td>\n",
       "      <td>0.0445</td>\n",
       "      <td>0.1070</td>\n",
       "      <td>0.3890</td>\n",
       "      <td>0.247</td>\n",
       "      <td>140.055</td>\n",
       "      <td>271189.0</td>\n",
       "      <td>4</td>\n",
       "      <td>6</td>\n",
       "    </tr>\n",
       "    <tr>\n",
       "      <th>4415</th>\n",
       "      <td>46.0</td>\n",
       "      <td>0.682</td>\n",
       "      <td>0.877</td>\n",
       "      <td>-4.888</td>\n",
       "      <td>0</td>\n",
       "      <td>0.0410</td>\n",
       "      <td>0.0309</td>\n",
       "      <td>0.0847</td>\n",
       "      <td>0.827</td>\n",
       "      <td>111.964</td>\n",
       "      <td>167000.0</td>\n",
       "      <td>4</td>\n",
       "      <td>6</td>\n",
       "    </tr>\n",
       "    <tr>\n",
       "      <th>1457</th>\n",
       "      <td>59.0</td>\n",
       "      <td>0.596</td>\n",
       "      <td>0.661</td>\n",
       "      <td>-7.533</td>\n",
       "      <td>0</td>\n",
       "      <td>0.0382</td>\n",
       "      <td>0.0713</td>\n",
       "      <td>0.2090</td>\n",
       "      <td>0.124</td>\n",
       "      <td>99.951</td>\n",
       "      <td>195300.0</td>\n",
       "      <td>4</td>\n",
       "      <td>10</td>\n",
       "    </tr>\n",
       "  </tbody>\n",
       "</table>\n",
       "</div>"
      ],
      "text/plain": [
       "       Popularity  danceability  energy  loudness mode  speechiness  \\\n",
       "6368         26.0         0.599   0.121   -18.501    1       0.0583   \n",
       "16126        52.0         0.898   0.509    -6.038    0       0.1240   \n",
       "8992         46.0         0.658   0.679    -5.766    1       0.0445   \n",
       "4415         46.0         0.682   0.877    -4.888    0       0.0410   \n",
       "1457         59.0         0.596   0.661    -7.533    0       0.0382   \n",
       "\n",
       "       acousticness  liveness  valence    tempo  duration_in min/ms  \\\n",
       "6368         0.9920    0.0933    0.568  102.598            189187.0   \n",
       "16126        0.1580    0.0939    0.555  108.002            143556.0   \n",
       "8992         0.1070    0.3890    0.247  140.055            271189.0   \n",
       "4415         0.0309    0.0847    0.827  111.964            167000.0   \n",
       "1457         0.0713    0.2090    0.124   99.951            195300.0   \n",
       "\n",
       "      time_signature Class  \n",
       "6368               4     2  \n",
       "16126              4     9  \n",
       "8992               4     6  \n",
       "4415               4     6  \n",
       "1457               4    10  "
      ]
     },
     "execution_count": 8,
     "metadata": {},
     "output_type": "execute_result"
    }
   ],
   "source": [
    "#Removing 'Artist Name' and 'Track Name' due to their unique values and non-essential variables in determing the music genre\n",
    "\n",
    "data_without_missing_and_redundant_values = data_without_missing_values.drop(['Artist Name', 'Track Name'], axis=1)\n",
    "data_without_missing_and_redundant_values.head()"
   ]
  },
  {
   "cell_type": "code",
   "execution_count": 9,
   "id": "59023603-4081-4895-a7db-e7c106110178",
   "metadata": {},
   "outputs": [
    {
     "data": {
      "text/plain": [
       "2.413273001508296"
      ]
     },
     "execution_count": 9,
     "metadata": {},
     "output_type": "execute_result"
    }
   ],
   "source": [
    "(data_without_missing_and_redundant_values.isna().sum(axis=1)>0).sum()/data_without_missing_and_redundant_values.shape[0]*100"
   ]
  },
  {
   "cell_type": "code",
   "execution_count": 10,
   "id": "d5b6e564-da47-46d2-a791-c63167851c0a",
   "metadata": {},
   "outputs": [
    {
     "data": {
      "text/html": [
       "<div>\n",
       "<style scoped>\n",
       "    .dataframe tbody tr th:only-of-type {\n",
       "        vertical-align: middle;\n",
       "    }\n",
       "\n",
       "    .dataframe tbody tr th {\n",
       "        vertical-align: top;\n",
       "    }\n",
       "\n",
       "    .dataframe thead th {\n",
       "        text-align: right;\n",
       "    }\n",
       "</style>\n",
       "<table border=\"1\" class=\"dataframe\">\n",
       "  <thead>\n",
       "    <tr style=\"text-align: right;\">\n",
       "      <th></th>\n",
       "      <th>Popularity</th>\n",
       "      <th>danceability</th>\n",
       "      <th>energy</th>\n",
       "      <th>loudness</th>\n",
       "      <th>mode</th>\n",
       "      <th>speechiness</th>\n",
       "      <th>acousticness</th>\n",
       "      <th>liveness</th>\n",
       "      <th>valence</th>\n",
       "      <th>tempo</th>\n",
       "      <th>duration_in min/ms</th>\n",
       "      <th>time_signature</th>\n",
       "      <th>Class</th>\n",
       "    </tr>\n",
       "  </thead>\n",
       "  <tbody>\n",
       "    <tr>\n",
       "      <th>6368</th>\n",
       "      <td>26.0</td>\n",
       "      <td>0.599</td>\n",
       "      <td>0.121</td>\n",
       "      <td>-18.501</td>\n",
       "      <td>1</td>\n",
       "      <td>0.0583</td>\n",
       "      <td>0.9920</td>\n",
       "      <td>0.0933</td>\n",
       "      <td>0.568</td>\n",
       "      <td>102.598</td>\n",
       "      <td>189187.0</td>\n",
       "      <td>4</td>\n",
       "      <td>2</td>\n",
       "    </tr>\n",
       "    <tr>\n",
       "      <th>16126</th>\n",
       "      <td>52.0</td>\n",
       "      <td>0.898</td>\n",
       "      <td>0.509</td>\n",
       "      <td>-6.038</td>\n",
       "      <td>0</td>\n",
       "      <td>0.1240</td>\n",
       "      <td>0.1580</td>\n",
       "      <td>0.0939</td>\n",
       "      <td>0.555</td>\n",
       "      <td>108.002</td>\n",
       "      <td>143556.0</td>\n",
       "      <td>4</td>\n",
       "      <td>9</td>\n",
       "    </tr>\n",
       "    <tr>\n",
       "      <th>8992</th>\n",
       "      <td>46.0</td>\n",
       "      <td>0.658</td>\n",
       "      <td>0.679</td>\n",
       "      <td>-5.766</td>\n",
       "      <td>1</td>\n",
       "      <td>0.0445</td>\n",
       "      <td>0.1070</td>\n",
       "      <td>0.3890</td>\n",
       "      <td>0.247</td>\n",
       "      <td>140.055</td>\n",
       "      <td>271189.0</td>\n",
       "      <td>4</td>\n",
       "      <td>6</td>\n",
       "    </tr>\n",
       "    <tr>\n",
       "      <th>4415</th>\n",
       "      <td>46.0</td>\n",
       "      <td>0.682</td>\n",
       "      <td>0.877</td>\n",
       "      <td>-4.888</td>\n",
       "      <td>0</td>\n",
       "      <td>0.0410</td>\n",
       "      <td>0.0309</td>\n",
       "      <td>0.0847</td>\n",
       "      <td>0.827</td>\n",
       "      <td>111.964</td>\n",
       "      <td>167000.0</td>\n",
       "      <td>4</td>\n",
       "      <td>6</td>\n",
       "    </tr>\n",
       "    <tr>\n",
       "      <th>1457</th>\n",
       "      <td>59.0</td>\n",
       "      <td>0.596</td>\n",
       "      <td>0.661</td>\n",
       "      <td>-7.533</td>\n",
       "      <td>0</td>\n",
       "      <td>0.0382</td>\n",
       "      <td>0.0713</td>\n",
       "      <td>0.2090</td>\n",
       "      <td>0.124</td>\n",
       "      <td>99.951</td>\n",
       "      <td>195300.0</td>\n",
       "      <td>4</td>\n",
       "      <td>10</td>\n",
       "    </tr>\n",
       "  </tbody>\n",
       "</table>\n",
       "</div>"
      ],
      "text/plain": [
       "       Popularity  danceability  energy  loudness mode  speechiness  \\\n",
       "6368         26.0         0.599   0.121   -18.501    1       0.0583   \n",
       "16126        52.0         0.898   0.509    -6.038    0       0.1240   \n",
       "8992         46.0         0.658   0.679    -5.766    1       0.0445   \n",
       "4415         46.0         0.682   0.877    -4.888    0       0.0410   \n",
       "1457         59.0         0.596   0.661    -7.533    0       0.0382   \n",
       "\n",
       "       acousticness  liveness  valence    tempo  duration_in min/ms  \\\n",
       "6368         0.9920    0.0933    0.568  102.598            189187.0   \n",
       "16126        0.1580    0.0939    0.555  108.002            143556.0   \n",
       "8992         0.1070    0.3890    0.247  140.055            271189.0   \n",
       "4415         0.0309    0.0847    0.827  111.964            167000.0   \n",
       "1457         0.0713    0.2090    0.124   99.951            195300.0   \n",
       "\n",
       "      time_signature Class  \n",
       "6368               4     2  \n",
       "16126              4     9  \n",
       "8992               4     6  \n",
       "4415               4     6  \n",
       "1457               4    10  "
      ]
     },
     "execution_count": 10,
     "metadata": {},
     "output_type": "execute_result"
    }
   ],
   "source": [
    "#Missing values in popularity variable are replaced using median() as animputation technique. \n",
    "from sklearn.impute import SimpleImputer\n",
    "imputer = SimpleImputer(strategy='median', missing_values=np.nan)\n",
    "imputer = imputer.fit(data_without_missing_and_redundant_values[['Popularity']])\n",
    "data_without_missing_and_redundant_values['Popularity'] = imputer.transform(data_without_missing_and_redundant_values[['Popularity']])\n",
    "data_without_missing_and_redundant_values.head()"
   ]
  },
  {
   "cell_type": "code",
   "execution_count": null,
   "id": "c2c49d28-633e-4ffc-9779-83366cea7773",
   "metadata": {},
   "outputs": [],
   "source": []
  },
  {
   "cell_type": "code",
   "execution_count": null,
   "id": "d32fd368-38a3-4074-8a5c-ad99b495a9be",
   "metadata": {},
   "outputs": [],
   "source": []
  },
  {
   "cell_type": "code",
   "execution_count": null,
   "id": "40e0dd55-b396-4726-b48e-819ee39949fe",
   "metadata": {},
   "outputs": [],
   "source": []
  },
  {
   "cell_type": "code",
   "execution_count": null,
   "id": "d8b20b53-af06-40e6-9a72-1e749cbdae0a",
   "metadata": {},
   "outputs": [],
   "source": []
  },
  {
   "cell_type": "code",
   "execution_count": null,
   "id": "e4fe56a3-6c3d-41ba-97d0-5a2c656d2726",
   "metadata": {},
   "outputs": [],
   "source": []
  },
  {
   "cell_type": "code",
   "execution_count": null,
   "id": "d5d444c1-f15a-4c90-9e2d-3159dd27da6a",
   "metadata": {},
   "outputs": [],
   "source": []
  },
  {
   "cell_type": "code",
   "execution_count": null,
   "id": "e7f09646-4eff-40f3-a409-c331908d9bd4",
   "metadata": {},
   "outputs": [],
   "source": []
  },
  {
   "cell_type": "code",
   "execution_count": null,
   "id": "2a9fb4f4-0ba2-4259-8cb7-070381a4595c",
   "metadata": {},
   "outputs": [],
   "source": []
  },
  {
   "cell_type": "code",
   "execution_count": null,
   "id": "05f0b15f-4223-4769-b601-3fc629cad7f1",
   "metadata": {},
   "outputs": [],
   "source": []
  },
  {
   "cell_type": "markdown",
   "id": "2f4b4f64-f9c2-4ff3-8e29-5a521f694ebd",
   "metadata": {},
   "source": [
    "## Preprocessing\n",
    "\n",
    "TODO\n",
    "\n",
    "> Requirements on preprocessing\n",
    "> \n",
    "> Any two of the following operations are mandatory:\n",
    "> \n",
    "> -     remove rows based on subsetting\n",
    "> -     derive new columns\n",
    "> -     use aggregation operators\n",
    "> -     treat missing values\n",
    "\n",
    "\n",
    "TODO remove instrumentalness\n"
   ]
  },
  {
   "cell_type": "markdown",
   "id": "0f84475c-8b6e-4c60-8d49-98c63b11b3cc",
   "metadata": {},
   "source": [
    "## Modeling\n",
    "\n",
    "TODO\n",
    "\n",
    "> Requirements\n",
    "> \n",
    "> Use any classifier. Choose one of the following two options:\n",
    "> \n",
    "> -     perform train/test split\n",
    "> -     use crossvalidation\n",
    "> \n",
    "> Also, evaluate and compare at least two algorithms of different types (e.g. logistic regression and random forest).\n",
    "> Any classifier from `sklearn`"
   ]
  },
  {
   "cell_type": "markdown",
   "id": "3d5bcd7f-5be4-4ff0-ada4-d2faff62c15e",
   "metadata": {
    "tags": []
   },
   "source": [
    "### Hyperparameter tuning\n",
    "\n",
    "TODO\n",
    "\n",
    "> Requirements on metaparameter tuning\n",
    "> \n",
    "> If the chosen classifier has any metaparameters that can be tuned, use one of the following methods:\n",
    "> \n",
    ">  -   try several configurations and describe the best result in the final report\n",
    ">  -   perform grid search or other similar automatic method\n",
    ">  -   once you have tuned metaparameters on a dedicated development (training) set, e.g. with GridSearchCV, you can retrain the model on the complete training data, as e.g. described here for Python: https://scikit-learn.org/stable/auto_examples/model_selection/plot_grid_search_digits.html and https://stackoverflow.com/questions/26962050/confused-with-repect-to-working-of-gridsearchcv\n",
    "> \n",
    "> Python recommendation: sklearn.model_selection.GridSearchCV"
   ]
  },
  {
   "cell_type": "markdown",
   "id": "2c351d19-eb16-40a4-a1ab-e60eb0ee6f84",
   "metadata": {},
   "source": [
    "## Results and evaluation\n",
    "\n",
    "TODO\n",
    "\n",
    "> Requirements on model evaluation\n",
    "> \n",
    "> -    report the accuracy on test set/crossvalidation\n",
    "> -    if you are performing binary classification task, involve also the ROC curve\n",
    "> -    make sure to use dedicated dataset for evaluation\n",
    "> \n",
    "> Python: use model_selection.cross_val_score, plot the roc curve using sklearn.metrics.roc_curve R: print model learned using the caret package, the roc curve can be plotted using the plotROC package."
   ]
  },
  {
   "cell_type": "code",
   "execution_count": null,
   "id": "f53e83e7-e64f-4b7b-b5d9-0e523187e179",
   "metadata": {},
   "outputs": [],
   "source": []
  }
 ],
 "metadata": {
  "kernelspec": {
   "display_name": "Python 3 (ipykernel)",
   "language": "python",
   "name": "python3"
  },
  "language_info": {
   "codemirror_mode": {
    "name": "ipython",
    "version": 3
   },
   "file_extension": ".py",
   "mimetype": "text/x-python",
   "name": "python",
   "nbconvert_exporter": "python",
   "pygments_lexer": "ipython3",
   "version": "3.9.12"
  }
 },
 "nbformat": 4,
 "nbformat_minor": 5
}
